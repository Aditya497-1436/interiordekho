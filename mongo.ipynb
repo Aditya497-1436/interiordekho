{
 "cells": [
  {
   "cell_type": "code",
   "execution_count": 17,
   "metadata": {},
   "outputs": [
    {
     "name": "stdout",
     "output_type": "stream",
     "text": [
      "{'_id': ObjectId('6697d8d8fd7d516d2ef117ab'), 'name': 'IBM', 'location': 'bang'}\n",
      "{'_id': ObjectId('6697d8d8fd7d516d2ef117ac'), 'name': 'RedHat', 'location': 'jaipur'}\n",
      "{'_id': ObjectId('6697e134fd7d516d2ef117ae'), 'name': 'IBM', 'location': 'bang'}\n",
      "{'_id': ObjectId('6697e134fd7d516d2ef117af'), 'name': 'RedHat', 'location': 'jaipur'}\n",
      "{'_id': ObjectId('6697e552fd7d516d2ef117b7'), 'name': 'IBM', 'location': 'bang'}\n",
      "{'_id': ObjectId('6697e552fd7d516d2ef117b8'), 'name': 'RedHat', 'location': 'jaipur'}\n",
      "{'_id': ObjectId('6697e56bfd7d516d2ef117ba'), 'name': 'IBM', 'location': 'bang'}\n",
      "{'_id': ObjectId('6697e56bfd7d516d2ef117bb'), 'name': 'RedHat', 'location': 'jaipur'}\n",
      "{'_id': ObjectId('6697e918a6db234330f1bd51'), 'name': 'IBM', 'location': 'bang'}\n",
      "{'_id': ObjectId('6697e918a6db234330f1bd52'), 'name': 'RedHat', 'location': 'jaipur'}\n",
      "{'_id': ObjectId('669a0a35fb55eac4084b162d'), 'name': 'IBM', 'location': 'bang'}\n",
      "{'_id': ObjectId('669a0a35fb55eac4084b162e'), 'name': 'RedHat', 'location': 'jaipur'}\n",
      "{'_id': ObjectId('669a0a55fb55eac4084b1630'), 'name': 'IBM', 'location': 'bang'}\n",
      "{'_id': ObjectId('669a0a55fb55eac4084b1631'), 'name': 'RedHat', 'location': 'jaipur'}\n",
      "{'_id': ObjectId('669a0a86fb55eac4084b1633'), 'name': 'IBM', 'location': 'bang'}\n",
      "{'_id': ObjectId('669a0a86fb55eac4084b1634'), 'name': 'RedHat', 'location': 'jaipur'}\n",
      "{'_id': ObjectId('669a0b13fb55eac4084b1636'), 'name': 'IBM', 'location': 'bang'}\n",
      "{'_id': ObjectId('669a0b13fb55eac4084b1637'), 'name': 'RedHat', 'location': 'jaipur'}\n"
     ]
    }
   ],
   "source": [
    "import pymongo\n",
    "dbconn = pymongo.MongoClient(\"mongodb://127.0.0.1:27017/\")\n",
    "dbconn.list_databases()\n",
    "dbconn.list_database_names()\n",
    "dbname = dbconn[\"DATA\"]\n",
    "dbcollection = dbname[\"student\"]\n",
    "dbcollection.insert_one(\n",
    "    {\n",
    "        \"name\": \"IBM\",\n",
    "        \"location\": \"bang\"\n",
    "    }\n",
    ")\n",
    "dbcollection.find_one()\n",
    "dbcollection.insert_one(\n",
    "    {\n",
    "        \"name\": \"RedHat\",\n",
    "        \"location\": \"jaipur\"\n",
    "\n",
    "    }\n",
    ")\n",
    "dbcollection.find_one()\n",
    "for i in dbcollection.find():\n",
    "    print(i)"
   ]
  },
  {
   "cell_type": "code",
   "execution_count": null,
   "metadata": {},
   "outputs": [],
   "source": []
  },
  {
   "cell_type": "code",
   "execution_count": 18,
   "metadata": {},
   "outputs": [
    {
     "name": "stdout",
     "output_type": "stream",
     "text": [
      " * Serving Flask app '__main__'\n",
      " * Debug mode: off\n"
     ]
    },
    {
     "name": "stderr",
     "output_type": "stream",
     "text": [
      "WARNING: This is a development server. Do not use it in a production deployment. Use a production WSGI server instead.\n",
      " * Running on http://127.0.0.1:5000\n",
      "Press CTRL+C to quit\n",
      "127.0.0.1 - - [19/Jul/2024 12:14:06] \"POST /register HTTP/1.1\" 302 -\n",
      "127.0.0.1 - - [19/Jul/2024 12:14:06] \"GET /frontpagemain.html HTTP/1.1\" 404 -\n",
      "127.0.0.1 - - [19/Jul/2024 12:14:06] \"GET /favicon.ico HTTP/1.1\" 404 -\n"
     ]
    }
   ],
   "source": [
    "from flask import Flask, request, redirect, render_template\n",
    "import pymongo\n",
    "\n",
    "app = Flask(__name__)\n",
    "\n",
    "@app.route(\"/login\", methods=['GET', 'POST'])\n",
    "def log_form():\n",
    "    if request.method == 'POST':\n",
    "        email = request.form.get(\"email\")\n",
    "        password = request.form.get(\"password\")\n",
    "        \n",
    "        # Here you should add authentication logic (e.g., check email and password in database)\n",
    "        \n",
    "        # If authentication is successful\n",
    "        return render_template(\"frontpagemain.html\")\n",
    "\n",
    "    # For GET requests, just show the login form\n",
    "    return render_template(\"login.html\")\n",
    "\n",
    "@app.route(\"/register\", methods=['POST', 'GET'])\n",
    "def reg_form():\n",
    "    if request.method == 'POST':\n",
    "        name = request.form.get(\"name\")\n",
    "        email = request.form.get(\"email\")\n",
    "        phone = request.form.get(\"phone\")\n",
    "        username = request.form.get(\"username\")\n",
    "        password = request.form.get(\"password\")\n",
    "        confirm_password = request.form.get(\"confirm_password\")\n",
    "\n",
    "        dbconn = pymongo.MongoClient(\"mongodb://127.0.0.1:27017/\")\n",
    "        dbname = dbconn[\"Website\"]\n",
    "        dbcollection = dbname[\"register\"]\n",
    "        dbcollection.insert_one(\n",
    "            {\n",
    "                \"name\": name,\n",
    "                \"email\": email,\n",
    "                \"phone\": phone,\n",
    "                \"username\": username,\n",
    "                \"password\": password,\n",
    "                \"confirm_password\": confirm_password,\n",
    "            }\n",
    "        )\n",
    "        \n",
    "        # Redirect to login page after successful registration\n",
    "        return redirect(\"/login\")\n",
    "    \n",
    "    return render_template(\"register.html\")\n",
    "\n",
    "@app.route(\"/\")\n",
    "def home():\n",
    "    return render_template(\"frontpagemain.html\")\n",
    "\n",
    "if __name__ == \"__main__\":\n",
    "    app.run(debug=True)\n"
   ]
  },
  {
   "cell_type": "code",
   "execution_count": null,
   "metadata": {},
   "outputs": [],
   "source": []
  }
 ],
 "metadata": {
  "kernelspec": {
   "display_name": "Python 3",
   "language": "python",
   "name": "python3"
  },
  "language_info": {
   "codemirror_mode": {
    "name": "ipython",
    "version": 3
   },
   "file_extension": ".py",
   "mimetype": "text/x-python",
   "name": "python",
   "nbconvert_exporter": "python",
   "pygments_lexer": "ipython3",
   "version": "3.12.4"
  }
 },
 "nbformat": 4,
 "nbformat_minor": 2
}
